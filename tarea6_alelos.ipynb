{
 "cells": [
  {
   "cell_type": "markdown",
   "id": "d72eb4a5",
   "metadata": {},
   "source": [
    "<img src=\"https://upload.wikimedia.org/wikipedia/commons/d/de/Logotipo_Ikiam.png\" eidth=20 heigh=50 />\n",
    "<center><h1 style=\"color:red; background-color:powderblue;\">TAREA6 - BIOINFORMÁTICA</h1></center>\n",
    "\n",
    "# DATOS DEL ESTUDIANTE\n",
    "### Nombre: \n",
    "Jairo Calapucha \n",
    "### Semestre:\n",
    "sexto semestre \n",
    "### Carrera: \n",
    "Ingeniería en Biotecnología\n",
    "\n",
    "# ACTIVIDADES REALIZADAS\n",
    "Creamos un módulo llamado alelos.py para trabajr con las tres funciones solicitadas: \n",
    "### Función 1. Creacción de la población\n",
    "Debemos crear una función de simulación \"build.population\" importando datos del modulo scipy considerando como tamaño de entrada la población (N) y una variable de salida la probabilidad de tener un alelo \"A\" o \"a\"(p). \n",
    "Se crea un listado vación llamado \"population\" y para cada elemnto dentro del rango \"N\". Se crea dos alelos el \"A\" y \"a\", el calculo y la combinaciones se realiza si son > p. \n",
    "### Función 2. Cuantificación de frecuencias de alelos\n",
    "Creamos la función \"compute_frecuencias\" para calcular las frecuencias genotipicas utilizando el argumento de entrada los datos de población (population) que contiene combinaciones alelicas  de \"AA\" \"Aa\", \"aA\" y \"aa\". \n",
    "### Función 3. Creación de la población hijo (100 generaciones) \n",
    "Creamos la función \"reproduce_populatión\" que toma la población actual y genera la proxima generación de individuos. Se crea un listado vación llamado \"new_generation\" y dentro del rango N, se realiza una combinación aleatorio, creando asi los progentiores llamado \"dad\" \"mom\" . luego, secruza los cromosomas del padre y de la madre, creando asi una nueva generación. \n",
    "\n",
    "## Resultados\n",
    "Se obtuvieron 100 generaciones, y los resultados dan individuos homocigotos y heterocigotos.\n",
    "Durante las tres primeras generaciones obtienen indivudos Homogicotos dominantes (\"AA\"), individuos homogicotos recesivos (\"aa\"), y algunos inidivuos heterocigotos \"aA\" y \"Aa\". \n"
   ]
  },
  {
   "cell_type": "code",
   "execution_count": 1,
   "id": "1bb71bf4",
   "metadata": {},
   "outputs": [],
   "source": [
    "import alelos "
   ]
  },
  {
   "cell_type": "code",
   "execution_count": 3,
   "id": "99037eae",
   "metadata": {
    "scrolled": true
   },
   "outputs": [
    {
     "name": "stdout",
     "output_type": "stream",
     "text": [
      "[('A', 'A'), ('A', 'a'), ('A', 'a'), ('a', 'A'), ('a', 'A'), ('A', 'a')]\n",
      "{'AA': 1, 'aa': 0, 'Aa': 3, 'aA': 2}\n",
      "[('a', 'A'), ('A', 'A'), ('a', 'a'), ('a', 'a'), ('a', 'A'), ('a', 'a')]\n",
      "{'AA': 1, 'aa': 3, 'Aa': 0, 'aA': 2}\n",
      "[('A', 'a'), ('A', 'a'), ('A', 'a'), ('a', 'a'), ('a', 'a'), ('a', 'a')]\n",
      "{'AA': 0, 'aa': 3, 'Aa': 3, 'aA': 0}\n",
      "[('a', 'a'), ('a', 'A'), ('A', 'a'), ('a', 'a'), ('a', 'A'), ('A', 'a')]\n",
      "{'AA': 0, 'aa': 2, 'Aa': 2, 'aA': 2}\n",
      "[('A', 'a'), ('A', 'a'), ('A', 'a'), ('a', 'a'), ('a', 'a'), ('a', 'a')]\n",
      "{'AA': 1, 'aa': 2, 'Aa': 1, 'aA': 2}\n"
     ]
    }
   ],
   "source": [
    "#Generaiónactual\n",
    "generacion = alelos.build_population(6, 0.45)\n",
    "fgeneracion = alelos.compute_frequencies(generacion)\n",
    "print(generacion)\n",
    "print(fgeneracion)\n",
    "#Generación 1\n",
    "generacion1 = alelos.reproduce_population(generacion)\n",
    "print(generacion1)\n",
    "print(alelos.compute_frequencies(generacion1))\n",
    "#Generación2\n",
    "generacion2 = alelos.reproduce_population(generacion1)\n",
    "print(generacion2)\n",
    "print(alelos.compute_frequencies(generacion2))\n",
    "#Generación 3\n",
    "generacion3 = alelos.reproduce_population(generacion2)\n",
    "print(generacion3)\n",
    "print(alelos.compute_frequencies(generacion3))\n",
    "#Generación 4\n",
    "generacion4 = alelos.reproduce_population(generacion3)\n",
    "print(generacion2)\n",
    "print(alelos.compute_frequencies(generacion4))\n",
    "\n"
   ]
  },
  {
   "cell_type": "code",
   "execution_count": null,
   "id": "0d2ae86b",
   "metadata": {},
   "outputs": [],
   "source": []
  },
  {
   "cell_type": "code",
   "execution_count": null,
   "id": "52e968e2",
   "metadata": {},
   "outputs": [],
   "source": [
    "\n"
   ]
  }
 ],
 "metadata": {
  "kernelspec": {
   "display_name": "Python 3 (ipykernel)",
   "language": "python",
   "name": "python3"
  },
  "language_info": {
   "codemirror_mode": {
    "name": "ipython",
    "version": 3
   },
   "file_extension": ".py",
   "mimetype": "text/x-python",
   "name": "python",
   "nbconvert_exporter": "python",
   "pygments_lexer": "ipython3",
   "version": "3.9.7"
  }
 },
 "nbformat": 4,
 "nbformat_minor": 5
}
