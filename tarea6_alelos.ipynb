{
 "cells": [
  {
   "cell_type": "markdown",
   "id": "a886f454",
   "metadata": {},
   "source": [
    "<img src=\"https://upload.wikimedia.org/wikipedia/commons/d/de/Logotipo_Ikiam.png\" eidth=20 heigh=50 />\n",
    "<center><h1 style=\"color:red; background-color:powderblue;\">TAREA6 - BIOINFORMÁTICA</h1></center>\n",
    "\n",
    "# DATOS DEL ESTUDIANTE\n",
    "### Nombre: \n",
    "Jairo calapucha\n",
    "### Semestre:\n",
    "sexto semestre \n",
    "### Carrera: \n",
    "Ingeniería en Biotecnología\n",
    "### Asignatura\n",
    "Bioinforatica\n",
    "\n",
    "# EXPLICACIÓN DE LA TAREA\n",
    "Pimero se creo un modulo llamado alelos.py utilizando tres funciones que son: \n",
    "1. Creacción de la población\n",
    "Para ello se crea una función de simulación *build.population* importando datos del modulo scipy considerando como tamaño de entrada la población (N) y una variable de salida la probabilidad de tener un alelo \"A\" o \"a\"(p). \n",
    "Se crea un listado vación llamado *population[]* y para cada elemnto dentro del rango *N*. Se crea dos alelos el *A* y *a*, el calculo y la combinaciones se realiza si son > p. \n",
    "2. Cuantificación de frecuencias de alelos\n",
    "\n",
    "Se crea una función compute_frecuencias para calcular las frecuencias genotipicas utilizando el argumento de entrada los datos de población (population) que contiene combinaciones alelicas  de \"AA\" \"Aa\", \"aA\" y \"aa\". \n",
    "\n",
    "3. Creacion de la población hijo de hasta 100 generaciones \n",
    "\n",
    "Se crea una función 3 reproduce_populatión que toma la población actual y produce una proxima generación. Se crea un listado vación llamado *new_generation[]* y dentro del rango N, se realiza una combinación aleatorio, creando asi los progentiores llamado *dad* *mom* . luego, secruza los cromosomas del padre y de la madre, creando asi una nueva generación. \n",
    "\n",
    "4. Importación del *modulo* **alelos**\n",
    "\n",
    "- En jupyter se importa el modulo alelos con la funcion *[import]*. Luego, se se creo un forloop, estableciendo que cada individuos de hasta 100 generaciones se imprima los alelos, los cuales son AA, Aa, aA, aa. \n",
    "\n",
    "- Tambien se imprime la frecuencia elelica para  AA, Aa, aA, aa de hasta 100 generaciones. \n",
    "\n",
    "## Resultados\n",
    "\n",
    "- Se obtuvieron 100 generaciones, y los resultados dan individuos homocigotos y heterocigotos.\n",
    "\n",
    "- Durante las tres primeras generaciones de optiene indivudos Homogicotos dominantes (**AA**)individuos homogicotos recesivos (**aa**), y algunos inidivuos heterocigotos **aA** y **Aa**. \n",
    "\n",
    "- Se creo un for loop, para cada elemto en un rango de 100 generciones, donde se construye la nueva generación y la frecuencia alelica para 5 inviduos.\n"
   ]
  },
  {
   "cell_type": "code",
   "execution_count": null,
   "id": "250c8d31",
   "metadata": {},
   "outputs": [],
   "source": []
  },
  {
   "cell_type": "code",
   "execution_count": 13,
   "id": "adc4ebd0",
   "metadata": {},
   "outputs": [],
   "source": [
    "import alelos #SE IMPORTA EL MODULO\n",
    "Num_generacion = 100 +1 # SE ESTABLEce PARA 100 GENERACIONES,\n",
    "pop_alel = [] # contiene el numero de generación, y alelos\n",
    "new_generation = [] #contiene el numero de generración y la frecuencia con la que aparecen los alelos\n",
    "for i in range(Num_generacion):\n",
    "    nuevos_alel = alelos.build_population(10,0.6) # generacion de alelos de hasta 100 generaciones, donde10 es N y 0.6 de frecuencia\n",
    "    generacion_alel = (i, nuevos_alel) # generacion de frecuencias de alelos de hasta 100 generaciones \n",
    "    fnuevos_alel = alelos.compute_frequencies(nuevos_alel) #\n",
    "    mypop = (i, fnuevos_alel) # nuevas generaciones\n",
    "    #se crea un lista de las nuevas generaciones\n",
    "    \n",
    "    pop_alel.append(generacion_alel)\n",
    "    \n",
    "    new_generation.append(mypop)"
   ]
  },
  {
   "cell_type": "code",
   "execution_count": 14,
   "id": "0d768001",
   "metadata": {},
   "outputs": [
    {
     "name": "stdout",
     "output_type": "stream",
     "text": [
      "Estas es la población alelica de 100 generaciones\n",
      "[(0, [('a', 'a'), ('a', 'A'), ('A', 'a'), ('A', 'A'), ('A', 'a'), ('A', 'A'), ('a', 'A'), ('A', 'A'), ('A', 'a'), ('a', 'a')]), (1, [('a', 'A'), ('a', 'a'), ('a', 'a'), ('a', 'A'), ('a', 'A'), ('a', 'A'), ('A', 'A'), ('A', 'A'), ('a', 'A'), ('A', 'a')]), (2, [('a', 'A'), ('a', 'a'), ('A', 'a'), ('a', 'a'), ('A', 'A'), ('a', 'A'), ('A', 'a'), ('A', 'A'), ('a', 'A'), ('A', 'a')]), (3, [('A', 'A'), ('A', 'A'), ('a', 'a'), ('A', 'A'), ('A', 'A'), ('A', 'a'), ('A', 'a'), ('a', 'a'), ('A', 'A'), ('a', 'A')]), (4, [('A', 'a'), ('A', 'a'), ('a', 'a'), ('A', 'A'), ('a', 'A'), ('A', 'a'), ('a', 'A'), ('A', 'a'), ('A', 'a'), ('A', 'A')]), (5, [('a', 'a'), ('A', 'A'), ('A', 'a'), ('a', 'a'), ('A', 'a'), ('a', 'a'), ('a', 'a'), ('a', 'A'), ('A', 'a'), ('a', 'a')]), (6, [('a', 'A'), ('a', 'a'), ('a', 'A'), ('A', 'a'), ('A', 'A'), ('A', 'A'), ('A', 'A'), ('a', 'A'), ('A', 'a'), ('a', 'A')]), (7, [('A', 'A'), ('A', 'a'), ('A', 'A'), ('a', 'A'), ('A', 'A'), ('A', 'a'), ('a', 'A'), ('A', 'A'), ('a', 'A'), ('A', 'A')]), (8, [('a', 'a'), ('A', 'A'), ('A', 'A'), ('a', 'A'), ('A', 'A'), ('a', 'A'), ('a', 'a'), ('a', 'a'), ('A', 'A'), ('a', 'a')]), (9, [('a', 'A'), ('A', 'A'), ('A', 'a'), ('A', 'A'), ('A', 'a'), ('A', 'A'), ('A', 'a'), ('a', 'A'), ('a', 'A'), ('a', 'A')]), (10, [('a', 'A'), ('A', 'A'), ('A', 'A'), ('A', 'A'), ('a', 'A'), ('a', 'A'), ('A', 'A'), ('A', 'A'), ('a', 'a'), ('a', 'a')]), (11, [('a', 'A'), ('a', 'a'), ('a', 'A'), ('a', 'A'), ('a', 'a'), ('a', 'A'), ('a', 'a'), ('A', 'A'), ('A', 'A'), ('A', 'a')]), (12, [('A', 'A'), ('A', 'A'), ('A', 'a'), ('A', 'a'), ('A', 'a'), ('A', 'A'), ('A', 'A'), ('A', 'A'), ('a', 'A'), ('a', 'A')]), (13, [('a', 'a'), ('a', 'A'), ('a', 'a'), ('a', 'A'), ('A', 'a'), ('a', 'A'), ('a', 'A'), ('A', 'A'), ('A', 'a'), ('a', 'A')]), (14, [('A', 'a'), ('A', 'A'), ('A', 'A'), ('a', 'a'), ('a', 'a'), ('A', 'A'), ('a', 'a'), ('a', 'A'), ('a', 'a'), ('A', 'a')]), (15, [('A', 'a'), ('a', 'a'), ('A', 'A'), ('A', 'a'), ('a', 'a'), ('A', 'A'), ('A', 'A'), ('A', 'A'), ('A', 'a'), ('a', 'A')]), (16, [('A', 'A'), ('a', 'A'), ('a', 'A'), ('A', 'a'), ('a', 'a'), ('A', 'A'), ('a', 'A'), ('A', 'A'), ('A', 'A'), ('A', 'A')]), (17, [('A', 'A'), ('A', 'a'), ('A', 'A'), ('A', 'a'), ('a', 'a'), ('A', 'a'), ('A', 'a'), ('A', 'A'), ('A', 'a'), ('a', 'A')]), (18, [('a', 'A'), ('a', 'A'), ('A', 'A'), ('a', 'A'), ('A', 'a'), ('A', 'a'), ('A', 'A'), ('A', 'a'), ('A', 'a'), ('a', 'a')]), (19, [('A', 'a'), ('a', 'A'), ('A', 'a'), ('A', 'A'), ('a', 'A'), ('A', 'a'), ('a', 'a'), ('A', 'A'), ('A', 'A'), ('A', 'A')]), (20, [('A', 'a'), ('a', 'A'), ('A', 'a'), ('a', 'A'), ('A', 'a'), ('A', 'A'), ('A', 'A'), ('A', 'a'), ('a', 'A'), ('a', 'A')]), (21, [('a', 'a'), ('A', 'a'), ('A', 'A'), ('A', 'A'), ('A', 'a'), ('A', 'A'), ('a', 'A'), ('a', 'A'), ('A', 'a'), ('A', 'a')]), (22, [('a', 'A'), ('A', 'a'), ('a', 'A'), ('A', 'a'), ('a', 'A'), ('a', 'a'), ('A', 'a'), ('a', 'A'), ('A', 'A'), ('A', 'a')]), (23, [('A', 'A'), ('a', 'a'), ('A', 'a'), ('a', 'A'), ('A', 'A'), ('a', 'a'), ('A', 'A'), ('a', 'a'), ('A', 'A'), ('a', 'a')]), (24, [('a', 'A'), ('A', 'A'), ('A', 'A'), ('a', 'a'), ('a', 'A'), ('A', 'a'), ('a', 'A'), ('a', 'a'), ('A', 'A'), ('a', 'A')]), (25, [('A', 'A'), ('a', 'A'), ('a', 'A'), ('a', 'A'), ('a', 'a'), ('A', 'a'), ('a', 'a'), ('A', 'a'), ('a', 'A'), ('A', 'A')]), (26, [('a', 'a'), ('a', 'a'), ('a', 'A'), ('A', 'A'), ('A', 'a'), ('a', 'A'), ('A', 'a'), ('A', 'a'), ('A', 'A'), ('A', 'A')]), (27, [('a', 'A'), ('A', 'A'), ('A', 'A'), ('A', 'a'), ('A', 'A'), ('A', 'A'), ('A', 'A'), ('a', 'a'), ('A', 'a'), ('a', 'A')]), (28, [('A', 'A'), ('a', 'A'), ('A', 'A'), ('a', 'A'), ('A', 'A'), ('a', 'a'), ('A', 'a'), ('a', 'a'), ('A', 'a'), ('a', 'a')]), (29, [('A', 'A'), ('a', 'A'), ('a', 'A'), ('A', 'A'), ('A', 'A'), ('a', 'A'), ('a', 'a'), ('a', 'A'), ('A', 'A'), ('A', 'a')]), (30, [('A', 'a'), ('A', 'a'), ('A', 'A'), ('A', 'A'), ('A', 'a'), ('a', 'a'), ('A', 'a'), ('A', 'A'), ('a', 'A'), ('a', 'A')]), (31, [('a', 'a'), ('A', 'A'), ('A', 'a'), ('A', 'A'), ('A', 'A'), ('A', 'a'), ('A', 'A'), ('a', 'a'), ('A', 'A'), ('A', 'A')]), (32, [('A', 'a'), ('A', 'A'), ('A', 'a'), ('a', 'a'), ('A', 'A'), ('A', 'A'), ('a', 'a'), ('A', 'a'), ('A', 'a'), ('A', 'a')]), (33, [('a', 'a'), ('a', 'A'), ('A', 'A'), ('A', 'a'), ('a', 'a'), ('a', 'A'), ('A', 'A'), ('a', 'A'), ('A', 'A'), ('A', 'A')]), (34, [('A', 'a'), ('A', 'a'), ('a', 'A'), ('A', 'A'), ('A', 'a'), ('A', 'A'), ('a', 'A'), ('A', 'A'), ('A', 'A'), ('A', 'A')]), (35, [('a', 'A'), ('A', 'A'), ('A', 'a'), ('a', 'A'), ('a', 'a'), ('A', 'A'), ('A', 'A'), ('A', 'A'), ('a', 'A'), ('A', 'A')]), (36, [('A', 'A'), ('a', 'A'), ('a', 'A'), ('A', 'A'), ('A', 'a'), ('a', 'a'), ('a', 'a'), ('a', 'a'), ('a', 'A'), ('a', 'A')]), (37, [('a', 'A'), ('A', 'A'), ('A', 'A'), ('A', 'A'), ('A', 'a'), ('a', 'a'), ('A', 'a'), ('a', 'a'), ('A', 'A'), ('a', 'A')]), (38, [('A', 'a'), ('A', 'a'), ('A', 'a'), ('A', 'a'), ('A', 'A'), ('a', 'A'), ('a', 'A'), ('A', 'A'), ('a', 'A'), ('a', 'a')]), (39, [('a', 'A'), ('A', 'A'), ('a', 'A'), ('a', 'a'), ('A', 'A'), ('A', 'a'), ('A', 'A'), ('A', 'A'), ('a', 'a'), ('a', 'A')]), (40, [('a', 'a'), ('a', 'a'), ('A', 'A'), ('A', 'A'), ('A', 'A'), ('A', 'A'), ('A', 'A'), ('a', 'A'), ('A', 'A'), ('a', 'A')]), (41, [('a', 'A'), ('a', 'A'), ('A', 'A'), ('A', 'A'), ('a', 'A'), ('A', 'A'), ('a', 'A'), ('A', 'a'), ('A', 'a'), ('a', 'a')]), (42, [('A', 'a'), ('A', 'A'), ('A', 'A'), ('a', 'a'), ('A', 'a'), ('a', 'a'), ('A', 'a'), ('A', 'A'), ('a', 'A'), ('A', 'a')]), (43, [('A', 'a'), ('A', 'A'), ('A', 'A'), ('A', 'a'), ('A', 'A'), ('a', 'a'), ('A', 'A'), ('a', 'a'), ('a', 'A'), ('A', 'a')]), (44, [('A', 'a'), ('a', 'A'), ('a', 'A'), ('a', 'a'), ('a', 'A'), ('A', 'a'), ('a', 'A'), ('a', 'A'), ('A', 'a'), ('A', 'A')]), (45, [('a', 'a'), ('A', 'A'), ('A', 'A'), ('A', 'A'), ('A', 'a'), ('A', 'A'), ('A', 'A'), ('A', 'A'), ('a', 'A'), ('a', 'a')]), (46, [('A', 'a'), ('A', 'A'), ('A', 'A'), ('a', 'A'), ('a', 'A'), ('A', 'a'), ('A', 'A'), ('a', 'A'), ('A', 'A'), ('a', 'A')]), (47, [('a', 'A'), ('a', 'a'), ('A', 'a'), ('A', 'A'), ('a', 'A'), ('a', 'a'), ('a', 'a'), ('A', 'A'), ('A', 'A'), ('a', 'a')]), (48, [('A', 'a'), ('a', 'A'), ('a', 'A'), ('A', 'A'), ('A', 'A'), ('A', 'A'), ('a', 'A'), ('a', 'a'), ('a', 'A'), ('A', 'A')]), (49, [('a', 'A'), ('A', 'A'), ('A', 'A'), ('A', 'A'), ('a', 'A'), ('a', 'a'), ('A', 'A'), ('a', 'a'), ('a', 'A'), ('A', 'a')]), (50, [('A', 'A'), ('a', 'a'), ('a', 'A'), ('A', 'a'), ('A', 'a'), ('A', 'a'), ('A', 'a'), ('a', 'A'), ('A', 'A'), ('A', 'a')]), (51, [('A', 'A'), ('A', 'a'), ('a', 'A'), ('a', 'a'), ('A', 'A'), ('A', 'A'), ('a', 'a'), ('A', 'A'), ('A', 'A'), ('A', 'a')]), (52, [('A', 'A'), ('A', 'A'), ('a', 'A'), ('A', 'A'), ('a', 'A'), ('a', 'A'), ('A', 'A'), ('a', 'a'), ('A', 'a'), ('A', 'a')]), (53, [('A', 'A'), ('a', 'a'), ('a', 'a'), ('A', 'A'), ('A', 'a'), ('A', 'a'), ('A', 'a'), ('a', 'A'), ('a', 'A'), ('A', 'A')]), (54, [('A', 'a'), ('A', 'A'), ('A', 'A'), ('A', 'a'), ('A', 'a'), ('A', 'A'), ('a', 'a'), ('a', 'A'), ('a', 'a'), ('A', 'A')]), (55, [('A', 'A'), ('A', 'a'), ('A', 'a'), ('A', 'A'), ('A', 'A'), ('A', 'a'), ('a', 'A'), ('a', 'a'), ('A', 'A'), ('a', 'A')]), (56, [('a', 'A'), ('a', 'a'), ('a', 'a'), ('a', 'A'), ('A', 'A'), ('a', 'A'), ('a', 'A'), ('a', 'A'), ('A', 'A'), ('a', 'a')]), (57, [('a', 'A'), ('a', 'a'), ('A', 'a'), ('A', 'A'), ('a', 'A'), ('A', 'a'), ('A', 'a'), ('a', 'A'), ('A', 'a'), ('a', 'a')]), (58, [('a', 'A'), ('A', 'A'), ('a', 'A'), ('a', 'A'), ('a', 'A'), ('A', 'A'), ('A', 'A'), ('A', 'a'), ('A', 'A'), ('A', 'A')]), (59, [('A', 'A'), ('a', 'A'), ('a', 'a'), ('A', 'A'), ('A', 'a'), ('A', 'A'), ('a', 'A'), ('A', 'A'), ('A', 'A'), ('A', 'a')]), (60, [('A', 'A'), ('A', 'A'), ('A', 'a'), ('A', 'a'), ('a', 'a'), ('a', 'a'), ('A', 'A'), ('a', 'A'), ('a', 'a'), ('A', 'A')]), (61, [('a', 'A'), ('A', 'a'), ('A', 'A'), ('A', 'A'), ('a', 'a'), ('a', 'a'), ('A', 'a'), ('A', 'a'), ('A', 'a'), ('A', 'A')]), (62, [('a', 'A'), ('A', 'a'), ('a', 'a'), ('A', 'A'), ('A', 'a'), ('A', 'A'), ('a', 'A'), ('a', 'a'), ('A', 'a'), ('a', 'a')]), (63, [('A', 'A'), ('A', 'A'), ('A', 'A'), ('A', 'a'), ('a', 'A'), ('a', 'A'), ('A', 'A'), ('A', 'A'), ('A', 'a'), ('a', 'a')]), (64, [('a', 'A'), ('a', 'a'), ('A', 'A'), ('A', 'A'), ('A', 'a'), ('a', 'a'), ('a', 'A'), ('A', 'a'), ('a', 'A'), ('a', 'A')]), (65, [('A', 'A'), ('A', 'A'), ('A', 'a'), ('A', 'A'), ('a', 'a'), ('a', 'a'), ('a', 'A'), ('A', 'A'), ('A', 'a'), ('a', 'a')]), (66, [('a', 'A'), ('A', 'a'), ('A', 'A'), ('A', 'A'), ('A', 'A'), ('A', 'a'), ('a', 'A'), ('A', 'a'), ('a', 'a'), ('A', 'A')]), (67, [('a', 'a'), ('A', 'a'), ('a', 'A'), ('A', 'A'), ('A', 'a'), ('a', 'A'), ('a', 'a'), ('A', 'a'), ('A', 'A'), ('A', 'A')]), (68, [('A', 'A'), ('a', 'A'), ('A', 'A'), ('A', 'A'), ('A', 'a'), ('A', 'A'), ('A', 'A'), ('A', 'a'), ('A', 'a'), ('a', 'A')]), (69, [('a', 'A'), ('A', 'A'), ('a', 'A'), ('A', 'A'), ('A', 'a'), ('a', 'A'), ('a', 'A'), ('a', 'A'), ('A', 'A'), ('a', 'A')]), (70, [('a', 'A'), ('a', 'A'), ('A', 'A'), ('A', 'a'), ('A', 'a'), ('A', 'A'), ('A', 'A'), ('A', 'A'), ('A', 'A'), ('A', 'A')]), (71, [('a', 'A'), ('A', 'a'), ('a', 'A'), ('a', 'A'), ('a', 'a'), ('A', 'A'), ('A', 'A'), ('A', 'A'), ('a', 'A'), ('A', 'A')]), (72, [('a', 'A'), ('A', 'A'), ('A', 'a'), ('A', 'a'), ('A', 'A'), ('A', 'A'), ('A', 'A'), ('A', 'A'), ('A', 'A'), ('A', 'A')]), (73, [('A', 'a'), ('A', 'A'), ('A', 'A'), ('a', 'A'), ('A', 'a'), ('A', 'A'), ('a', 'a'), ('A', 'a'), ('A', 'a'), ('A', 'a')]), (74, [('a', 'a'), ('A', 'A'), ('a', 'A'), ('A', 'A'), ('a', 'A'), ('a', 'A'), ('A', 'a'), ('A', 'A'), ('A', 'A'), ('A', 'A')]), (75, [('a', 'a'), ('a', 'A'), ('A', 'A'), ('A', 'a'), ('a', 'A'), ('a', 'A'), ('a', 'A'), ('A', 'A'), ('a', 'A'), ('A', 'A')]), (76, [('A', 'a'), ('a', 'A'), ('a', 'a'), ('a', 'A'), ('a', 'A'), ('a', 'A'), ('A', 'a'), ('a', 'A'), ('A', 'A'), ('A', 'a')]), (77, [('A', 'a'), ('a', 'A'), ('a', 'a'), ('A', 'a'), ('A', 'A'), ('A', 'A'), ('a', 'A'), ('A', 'A'), ('a', 'A'), ('A', 'A')]), (78, [('A', 'A'), ('a', 'A'), ('a', 'a'), ('a', 'a'), ('A', 'A'), ('A', 'A'), ('A', 'A'), ('A', 'a'), ('A', 'a'), ('A', 'a')]), (79, [('A', 'A'), ('a', 'A'), ('a', 'A'), ('a', 'A'), ('A', 'A'), ('a', 'A'), ('a', 'a'), ('A', 'a'), ('a', 'A'), ('a', 'a')]), (80, [('a', 'a'), ('A', 'A'), ('A', 'A'), ('a', 'a'), ('A', 'a'), ('A', 'a'), ('A', 'A'), ('A', 'a'), ('A', 'a'), ('a', 'A')]), (81, [('A', 'a'), ('a', 'A'), ('a', 'A'), ('A', 'a'), ('A', 'a'), ('a', 'A'), ('a', 'a'), ('A', 'A'), ('A', 'A'), ('A', 'A')]), (82, [('A', 'A'), ('A', 'a'), ('A', 'A'), ('a', 'a'), ('A', 'A'), ('a', 'A'), ('A', 'A'), ('A', 'a'), ('a', 'a'), ('a', 'A')]), (83, [('A', 'a'), ('A', 'A'), ('a', 'A'), ('a', 'A'), ('a', 'A'), ('a', 'A'), ('A', 'a'), ('a', 'a'), ('a', 'a'), ('A', 'a')]), (84, [('A', 'a'), ('A', 'A'), ('A', 'A'), ('A', 'a'), ('A', 'a'), ('a', 'a'), ('a', 'a'), ('A', 'A'), ('a', 'A'), ('A', 'A')]), (85, [('a', 'a'), ('A', 'a'), ('a', 'a'), ('A', 'a'), ('A', 'a'), ('a', 'a'), ('A', 'A'), ('a', 'a'), ('A', 'a'), ('a', 'a')]), (86, [('A', 'a'), ('A', 'A'), ('a', 'a'), ('a', 'A'), ('A', 'A'), ('A', 'A'), ('A', 'A'), ('A', 'a'), ('A', 'A'), ('A', 'A')]), (87, [('A', 'A'), ('A', 'A'), ('A', 'A'), ('a', 'A'), ('A', 'a'), ('a', 'a'), ('A', 'a'), ('A', 'A'), ('A', 'a'), ('A', 'a')]), (88, [('A', 'A'), ('a', 'a'), ('A', 'A'), ('A', 'A'), ('A', 'A'), ('A', 'A'), ('a', 'A'), ('a', 'A'), ('A', 'A'), ('A', 'a')]), (89, [('A', 'A'), ('A', 'A'), ('A', 'A'), ('A', 'A'), ('a', 'A'), ('a', 'A'), ('A', 'A'), ('a', 'A'), ('a', 'a'), ('A', 'a')]), (90, [('a', 'A'), ('a', 'A'), ('A', 'A'), ('A', 'a'), ('A', 'a'), ('a', 'A'), ('a', 'A'), ('A', 'a'), ('A', 'A'), ('A', 'a')]), (91, [('A', 'A'), ('a', 'a'), ('A', 'a'), ('A', 'A'), ('A', 'A'), ('a', 'A'), ('A', 'A'), ('A', 'A'), ('A', 'A'), ('a', 'A')]), (92, [('a', 'a'), ('A', 'A'), ('A', 'a'), ('a', 'A'), ('A', 'a'), ('A', 'a'), ('a', 'a'), ('A', 'A'), ('a', 'A'), ('A', 'a')]), (93, [('a', 'a'), ('A', 'A'), ('a', 'A'), ('A', 'A'), ('A', 'A'), ('A', 'A'), ('A', 'a'), ('A', 'A'), ('A', 'a'), ('a', 'A')]), (94, [('A', 'a'), ('a', 'a'), ('A', 'A'), ('a', 'a'), ('A', 'A'), ('A', 'a'), ('A', 'A'), ('A', 'a'), ('a', 'a'), ('A', 'a')]), (95, [('A', 'a'), ('A', 'a'), ('A', 'a'), ('A', 'A'), ('A', 'A'), ('A', 'A'), ('a', 'a'), ('A', 'A'), ('a', 'a'), ('A', 'A')]), (96, [('A', 'A'), ('A', 'A'), ('A', 'A'), ('a', 'A'), ('a', 'A'), ('A', 'A'), ('A', 'a'), ('A', 'A'), ('A', 'a'), ('A', 'A')]), (97, [('A', 'a'), ('A', 'A'), ('a', 'a'), ('A', 'A'), ('A', 'a'), ('A', 'a'), ('A', 'a'), ('A', 'a'), ('A', 'A'), ('a', 'A')]), (98, [('a', 'A'), ('A', 'A'), ('A', 'A'), ('A', 'A'), ('A', 'A'), ('A', 'a'), ('A', 'a'), ('a', 'a'), ('a', 'A'), ('A', 'A')]), (99, [('A', 'A'), ('a', 'A'), ('a', 'A'), ('A', 'A'), ('A', 'a'), ('a', 'A'), ('a', 'A'), ('A', 'A'), ('A', 'A'), ('a', 'A')]), (100, [('a', 'A'), ('A', 'a'), ('a', 'A'), ('a', 'A'), ('A', 'a'), ('A', 'A'), ('A', 'A'), ('A', 'A'), ('A', 'A'), ('a', 'A')])]\n"
     ]
    }
   ],
   "source": [
    "print(\"Estas es la población alelica de 100 generaciones\")\n",
    "print(pop_alel)\n"
   ]
  },
  {
   "cell_type": "code",
   "execution_count": 16,
   "id": "d509868e",
   "metadata": {},
   "outputs": [
    {
     "name": "stdout",
     "output_type": "stream",
     "text": [
      "Estas es la  frecuencia de población alelica de 100 generaciones\n",
      "[(0, {'AA': 3, 'aa': 2, 'Aa': 3, 'aA': 2}), (1, {'AA': 2, 'aa': 2, 'Aa': 1, 'aA': 5}), (2, {'AA': 2, 'aa': 2, 'Aa': 3, 'aA': 3}), (3, {'AA': 5, 'aa': 2, 'Aa': 2, 'aA': 1}), (4, {'AA': 2, 'aa': 1, 'Aa': 5, 'aA': 2}), (5, {'AA': 1, 'aa': 5, 'Aa': 3, 'aA': 1}), (6, {'AA': 3, 'aa': 1, 'Aa': 2, 'aA': 4}), (7, {'AA': 5, 'aa': 0, 'Aa': 2, 'aA': 3}), (8, {'AA': 4, 'aa': 4, 'Aa': 0, 'aA': 2}), (9, {'AA': 3, 'aa': 0, 'Aa': 3, 'aA': 4}), (10, {'AA': 5, 'aa': 2, 'Aa': 0, 'aA': 3}), (11, {'AA': 2, 'aa': 3, 'Aa': 1, 'aA': 4}), (12, {'AA': 5, 'aa': 0, 'Aa': 3, 'aA': 2}), (13, {'AA': 1, 'aa': 2, 'Aa': 2, 'aA': 5}), (14, {'AA': 3, 'aa': 4, 'Aa': 2, 'aA': 1}), (15, {'AA': 4, 'aa': 2, 'Aa': 3, 'aA': 1}), (16, {'AA': 5, 'aa': 1, 'Aa': 1, 'aA': 3}), (17, {'AA': 3, 'aa': 1, 'Aa': 5, 'aA': 1}), (18, {'AA': 2, 'aa': 1, 'Aa': 4, 'aA': 3}), (19, {'AA': 4, 'aa': 1, 'Aa': 3, 'aA': 2}), (20, {'AA': 2, 'aa': 0, 'Aa': 4, 'aA': 4}), (21, {'AA': 3, 'aa': 1, 'Aa': 4, 'aA': 2}), (22, {'AA': 1, 'aa': 1, 'Aa': 4, 'aA': 4}), (23, {'AA': 4, 'aa': 4, 'Aa': 1, 'aA': 1}), (24, {'AA': 3, 'aa': 2, 'Aa': 1, 'aA': 4}), (25, {'AA': 2, 'aa': 2, 'Aa': 2, 'aA': 4}), (26, {'AA': 3, 'aa': 2, 'Aa': 3, 'aA': 2}), (27, {'AA': 5, 'aa': 1, 'Aa': 2, 'aA': 2}), (28, {'AA': 3, 'aa': 3, 'Aa': 2, 'aA': 2}), (29, {'AA': 4, 'aa': 1, 'Aa': 1, 'aA': 4}), (30, {'AA': 3, 'aa': 1, 'Aa': 4, 'aA': 2}), (31, {'AA': 6, 'aa': 2, 'Aa': 2, 'aA': 0}), (32, {'AA': 3, 'aa': 2, 'Aa': 5, 'aA': 0}), (33, {'AA': 4, 'aa': 2, 'Aa': 1, 'aA': 3}), (34, {'AA': 5, 'aa': 0, 'Aa': 3, 'aA': 2}), (35, {'AA': 5, 'aa': 1, 'Aa': 1, 'aA': 3}), (36, {'AA': 2, 'aa': 3, 'Aa': 1, 'aA': 4}), (37, {'AA': 4, 'aa': 2, 'Aa': 2, 'aA': 2}), (38, {'AA': 2, 'aa': 1, 'Aa': 4, 'aA': 3}), (39, {'AA': 4, 'aa': 2, 'Aa': 1, 'aA': 3}), (40, {'AA': 6, 'aa': 2, 'Aa': 0, 'aA': 2}), (41, {'AA': 3, 'aa': 1, 'Aa': 2, 'aA': 4}), (42, {'AA': 3, 'aa': 2, 'Aa': 4, 'aA': 1}), (43, {'AA': 4, 'aa': 2, 'Aa': 3, 'aA': 1}), (44, {'AA': 1, 'aa': 1, 'Aa': 3, 'aA': 5}), (45, {'AA': 6, 'aa': 2, 'Aa': 1, 'aA': 1}), (46, {'AA': 4, 'aa': 0, 'Aa': 2, 'aA': 4}), (47, {'AA': 3, 'aa': 4, 'Aa': 1, 'aA': 2}), (48, {'AA': 4, 'aa': 1, 'Aa': 1, 'aA': 4}), (49, {'AA': 4, 'aa': 2, 'Aa': 1, 'aA': 3}), (50, {'AA': 2, 'aa': 1, 'Aa': 5, 'aA': 2}), (51, {'AA': 5, 'aa': 2, 'Aa': 2, 'aA': 1}), (52, {'AA': 4, 'aa': 1, 'Aa': 2, 'aA': 3}), (53, {'AA': 3, 'aa': 2, 'Aa': 3, 'aA': 2}), (54, {'AA': 4, 'aa': 2, 'Aa': 3, 'aA': 1}), (55, {'AA': 4, 'aa': 1, 'Aa': 3, 'aA': 2}), (56, {'AA': 2, 'aa': 3, 'Aa': 0, 'aA': 5}), (57, {'AA': 1, 'aa': 2, 'Aa': 4, 'aA': 3}), (58, {'AA': 5, 'aa': 0, 'Aa': 1, 'aA': 4}), (59, {'AA': 5, 'aa': 1, 'Aa': 2, 'aA': 2}), (60, {'AA': 4, 'aa': 3, 'Aa': 2, 'aA': 1}), (61, {'AA': 3, 'aa': 2, 'Aa': 4, 'aA': 1}), (62, {'AA': 2, 'aa': 3, 'Aa': 3, 'aA': 2}), (63, {'AA': 5, 'aa': 1, 'Aa': 2, 'aA': 2}), (64, {'AA': 2, 'aa': 2, 'Aa': 2, 'aA': 4}), (65, {'AA': 4, 'aa': 3, 'Aa': 2, 'aA': 1}), (66, {'AA': 4, 'aa': 1, 'Aa': 3, 'aA': 2}), (67, {'AA': 3, 'aa': 2, 'Aa': 3, 'aA': 2}), (68, {'AA': 5, 'aa': 0, 'Aa': 3, 'aA': 2}), (69, {'AA': 3, 'aa': 0, 'Aa': 1, 'aA': 6}), (70, {'AA': 6, 'aa': 0, 'Aa': 2, 'aA': 2}), (71, {'AA': 4, 'aa': 1, 'Aa': 1, 'aA': 4}), (72, {'AA': 7, 'aa': 0, 'Aa': 2, 'aA': 1}), (73, {'AA': 3, 'aa': 1, 'Aa': 5, 'aA': 1}), (74, {'AA': 5, 'aa': 1, 'Aa': 1, 'aA': 3}), (75, {'AA': 3, 'aa': 1, 'Aa': 1, 'aA': 5}), (76, {'AA': 1, 'aa': 1, 'Aa': 3, 'aA': 5}), (77, {'AA': 4, 'aa': 1, 'Aa': 2, 'aA': 3}), (78, {'AA': 4, 'aa': 2, 'Aa': 3, 'aA': 1}), (79, {'AA': 2, 'aa': 2, 'Aa': 1, 'aA': 5}), (80, {'AA': 3, 'aa': 2, 'Aa': 4, 'aA': 1}), (81, {'AA': 3, 'aa': 1, 'Aa': 3, 'aA': 3}), (82, {'AA': 4, 'aa': 2, 'Aa': 2, 'aA': 2}), (83, {'AA': 1, 'aa': 2, 'Aa': 3, 'aA': 4}), (84, {'AA': 4, 'aa': 2, 'Aa': 3, 'aA': 1}), (85, {'AA': 1, 'aa': 5, 'Aa': 4, 'aA': 0}), (86, {'AA': 6, 'aa': 1, 'Aa': 2, 'aA': 1}), (87, {'AA': 4, 'aa': 1, 'Aa': 4, 'aA': 1}), (88, {'AA': 6, 'aa': 1, 'Aa': 1, 'aA': 2}), (89, {'AA': 5, 'aa': 1, 'Aa': 1, 'aA': 3}), (90, {'AA': 2, 'aa': 0, 'Aa': 4, 'aA': 4}), (91, {'AA': 6, 'aa': 1, 'Aa': 1, 'aA': 2}), (92, {'AA': 2, 'aa': 2, 'Aa': 4, 'aA': 2}), (93, {'AA': 5, 'aa': 1, 'Aa': 2, 'aA': 2}), (94, {'AA': 3, 'aa': 3, 'Aa': 4, 'aA': 0}), (95, {'AA': 5, 'aa': 2, 'Aa': 3, 'aA': 0}), (96, {'AA': 6, 'aa': 0, 'Aa': 2, 'aA': 2}), (97, {'AA': 3, 'aa': 1, 'Aa': 5, 'aA': 1}), (98, {'AA': 5, 'aa': 1, 'Aa': 2, 'aA': 2}), (99, {'AA': 4, 'aa': 0, 'Aa': 1, 'aA': 5}), (100, {'AA': 4, 'aa': 0, 'Aa': 2, 'aA': 4})]\n"
     ]
    }
   ],
   "source": [
    "print(\"Estas es la  frecuencia de población alelica de 100 generaciones\")\n",
    "print(new_generation)"
   ]
  },
  {
   "cell_type": "code",
   "execution_count": null,
   "id": "9ed41a96",
   "metadata": {},
   "outputs": [],
   "source": []
  }
 ],
 "metadata": {
  "kernelspec": {
   "display_name": "Python 3 (ipykernel)",
   "language": "python",
   "name": "python3"
  },
  "language_info": {
   "codemirror_mode": {
    "name": "ipython",
    "version": 3
   },
   "file_extension": ".py",
   "mimetype": "text/x-python",
   "name": "python",
   "nbconvert_exporter": "python",
   "pygments_lexer": "ipython3",
   "version": "3.9.7"
  }
 },
 "nbformat": 4,
 "nbformat_minor": 5
}
